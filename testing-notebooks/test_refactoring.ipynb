{
 "cells": [
  {
   "cell_type": "code",
   "execution_count": 2,
   "metadata": {},
   "outputs": [],
   "source": [
    "import os\n",
    "import sys\n",
    "module_path = os.path.abspath(os.path.join('..'))\n",
    "if module_path not in sys.path:\n",
    "    sys.path.append(module_path)"
   ]
  },
  {
   "cell_type": "code",
   "execution_count": 7,
   "metadata": {},
   "outputs": [
    {
     "data": {
      "text/plain": [
       "['c:\\\\Users\\\\Francesco\\\\Desktop\\\\coding\\\\statsbombplot\\\\testing-notebooks',\n",
       " 'C:\\\\Users\\\\Francesco\\\\AppData\\\\Local\\\\Programs\\\\Python\\\\Python311\\\\python311.zip',\n",
       " 'C:\\\\Users\\\\Francesco\\\\AppData\\\\Local\\\\Programs\\\\Python\\\\Python311\\\\DLLs',\n",
       " 'C:\\\\Users\\\\Francesco\\\\AppData\\\\Local\\\\Programs\\\\Python\\\\Python311\\\\Lib',\n",
       " 'C:\\\\Users\\\\Francesco\\\\AppData\\\\Local\\\\Programs\\\\Python\\\\Python311',\n",
       " 'c:\\\\Users\\\\Francesco\\\\Desktop\\\\coding\\\\statsbombplot\\\\env',\n",
       " '',\n",
       " 'c:\\\\Users\\\\Francesco\\\\Desktop\\\\coding\\\\statsbombplot\\\\env\\\\Lib\\\\site-packages',\n",
       " 'c:\\\\Users\\\\Francesco\\\\Desktop\\\\coding\\\\statsbombplot\\\\env\\\\Lib\\\\site-packages\\\\win32',\n",
       " 'c:\\\\Users\\\\Francesco\\\\Desktop\\\\coding\\\\statsbombplot\\\\env\\\\Lib\\\\site-packages\\\\win32\\\\lib',\n",
       " 'c:\\\\Users\\\\Francesco\\\\Desktop\\\\coding\\\\statsbombplot\\\\env\\\\Lib\\\\site-packages\\\\Pythonwin',\n",
       " 'c:\\\\Users\\\\Francesco\\\\Desktop\\\\coding\\\\statsbombplot']"
      ]
     },
     "execution_count": 7,
     "metadata": {},
     "output_type": "execute_result"
    }
   ],
   "source": [
    "import statsbombplot"
   ]
  }
 ],
 "metadata": {
  "kernelspec": {
   "display_name": "env",
   "language": "python",
   "name": "python3"
  },
  "language_info": {
   "codemirror_mode": {
    "name": "ipython",
    "version": 3
   },
   "file_extension": ".py",
   "mimetype": "text/x-python",
   "name": "python",
   "nbconvert_exporter": "python",
   "pygments_lexer": "ipython3",
   "version": "3.11.4"
  },
  "orig_nbformat": 4
 },
 "nbformat": 4,
 "nbformat_minor": 2
}
